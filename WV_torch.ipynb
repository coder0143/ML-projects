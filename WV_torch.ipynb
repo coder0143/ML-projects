{
 "cells": [
  {
   "cell_type": "code",
   "execution_count": 4,
   "id": "8c5a01cd-5290-4f36-9fa0-71b0c282844a",
   "metadata": {},
   "outputs": [],
   "source": [
    "import torch\n",
    "import torch.nn as nn\n",
    "\n",
    "from torch.optim import Adam\n",
    "from torch.distributions.uniform import Uniform\n",
    "from torch.utils.data import TensorDataset, DataLoader\n",
    "\n",
    "import lightning as L\n",
    "\n",
    "import pandas as pd\n",
    "import matplotlib.pyplot as plt\n",
    "import seaborn as sns"
   ]
  },
  {
   "cell_type": "markdown",
   "id": "909452f1-ed14-4760-8d61-99739ae2eebc",
   "metadata": {},
   "source": [
    "* First, using basic math"
   ]
  },
  {
   "cell_type": "markdown",
   "id": "bbd3b477-d180-46d9-8d87-e10e01fea7a2",
   "metadata": {},
   "source": [
    "Training data:\n",
    "    \n",
    "    Troll 2 is great!\n",
    "    Gymkata is great!"
   ]
  },
  {
   "cell_type": "code",
   "execution_count": 6,
   "id": "ccb2c7ab-fbf1-4596-8846-c4c3f3d7ce1d",
   "metadata": {},
   "outputs": [],
   "source": [
    "inputs = torch.tensor([[1.,0.,0.,0.],\n",
    "                      [0.,1.,0.,0.],\n",
    "                      [0.,0.,1.,0.],\n",
    "                      [0.,0.,0.,1.]])\n",
    "\n",
    "labels = torch.tensor([[0.,1.,0.,0.],\n",
    "                      [0.,0.,1.,0.],\n",
    "                      [0.,0.,0.,1.],\n",
    "                      [0.,1.,0.,0.]])\n",
    "\n",
    "dataset = TensorDataset(inputs, labels)\n",
    "dataloader = DataLoader(dataset)"
   ]
  },
  {
   "cell_type": "code",
   "execution_count": 8,
   "id": "3d1e7ae1-9eee-4206-9d45-f65ddea524c3",
   "metadata": {},
   "outputs": [],
   "source": [
    "class WordEmbeddScratch(L.LightningModule):\n",
    "    def __init__(self):\n",
    "        super().__init__()\n",
    "        # Using uniform distribution from -0.5 to 0.5\n",
    "        min = -0.5\n",
    "        max = 0.5\n",
    "\n",
    "        self.input1_w1 = nn.Parameter(Uniform(min, max).sample())\n",
    "        self.input1_w2 = nn.Parameter(Uniform(min, max).sample())\n",
    "        self.input2_w1 = nn.Parameter(Uniform(min, max).sample())\n",
    "        self.input2_w2 = nn.Parameter(Uniform(min, max).sample())\n",
    "        self.input3_w1 = nn.Parameter(Uniform(min, max).sample())\n",
    "        self.input3_w2 = nn.Parameter(Uniform(min, max).sample())\n",
    "        self.input4_w1 = nn.Parameter(Uniform(min, max).sample())\n",
    "        self.input4_w2 = nn.Parameter(Uniform(min, max).sample())\n",
    "\n",
    "        self.output1_w1 = nn.Parameter(Uniform(min, max).sample())\n",
    "        self.output1_w2 = nn.Parameter(Uniform(min, max).sample())\n",
    "        self.output2_w1 = nn.Parameter(Uniform(min, max).sample())\n",
    "        self.output2_w2 = nn.Parameter(Uniform(min, max).sample())\n",
    "        self.output3_w1 = nn.Parameter(Uniform(min, max).sample())\n",
    "        self.output3_w2 = nn.Parameter(Uniform(min, max).sample())\n",
    "        self.output4_w1 = nn.Parameter(Uniform(min, max).sample())\n",
    "        self.output4_w2 = nn.Parameter(Uniform(min, max).sample())        \n",
    "\n",
    "        self.loss = nn.CrossEntropyLoss()\n",
    "    \n",
    "    def forward(self, input):\n",
    "        input = input[0]\n",
    "\n",
    "        input_to_top_hidden = ((input[0]*self.input1_w1)+\n",
    "                               (input[1]*self.input2_w1)+\n",
    "                               (input[2]*self.input3_w1)+\n",
    "                               (input[3]*self.input4_w1))\n",
    "\n",
    "        input_to_bottom_hidden = ((input[0]*self.input1_w2)+\n",
    "                                  (input[1]*self.input2_w2)+\n",
    "                                  (input[2]*self.input3_w2)+\n",
    "                                  (input[3]*self.input4_w2))\n",
    "\n",
    "        output1 = ((input_to_top_hidden*self.output1_w1)+\n",
    "                  (input_to_bottom_hidden*self.output1_w2))\n",
    "        output2 = ((input_to_top_hidden*self.output2_w1)+\n",
    "                  (input_to_bottom_hidden*self.output2_w2))\n",
    "        output3 = ((input_to_top_hidden*self.output3_w1)+\n",
    "                  (input_to_bottom_hidden*self.output3_w2))\n",
    "        output4 = ((input_to_top_hidden*self.output4_w1)+\n",
    "                  (input_to_bottom_hidden*self.output4_w2))\n",
    "\n",
    "        output_presoftmax = torch.stack([output1, output2, output3, output4])\n",
    "\n",
    "        return output_presoftmax\n",
    "\n",
    "    def configure_optimizers(self):\n",
    "        return Adam(self.parameters(), lr = 0.1)\n",
    "\n",
    "    def training_step(self, batch, batch_idx):\n",
    "        input_i, label_i = batch\n",
    "        output_i = self.forward(input_i)\n",
    "        loss = self.loss(output_i, label_i[0])\n",
    "\n",
    "        return loss"
   ]
  },
  {
   "cell_type": "code",
   "execution_count": 9,
   "id": "fc696dc7-dccf-4673-9f45-8eb23fdd5c64",
   "metadata": {},
   "outputs": [
    {
     "name": "stdout",
     "output_type": "stream",
     "text": [
      "Before optimization:\n",
      "input1_w1 tensor(0.0447)\n",
      "input1_w2 tensor(-0.2590)\n",
      "input2_w1 tensor(0.4779)\n",
      "input2_w2 tensor(-0.4667)\n",
      "input3_w1 tensor(0.1369)\n",
      "input3_w2 tensor(0.4751)\n",
      "input4_w1 tensor(0.3106)\n",
      "input4_w2 tensor(0.3056)\n",
      "output1_w1 tensor(-0.4784)\n",
      "output1_w2 tensor(0.1881)\n",
      "output2_w1 tensor(0.4886)\n",
      "output2_w2 tensor(-0.1570)\n",
      "output3_w1 tensor(0.1079)\n",
      "output3_w2 tensor(-0.1989)\n",
      "output4_w1 tensor(0.4478)\n",
      "output4_w2 tensor(0.0882)\n"
     ]
    }
   ],
   "source": [
    "model_scratch = WordEmbeddScratch()\n",
    "\n",
    "print(\"Before optimization:\")\n",
    "for name, param in model_scratch.named_parameters():\n",
    "    print(name, param.data)"
   ]
  },
  {
   "cell_type": "code",
   "execution_count": 10,
   "id": "cee0a80b-5405-455f-84a8-c3537accf81e",
   "metadata": {},
   "outputs": [
    {
     "data": {
      "text/html": [
       "<div>\n",
       "<style scoped>\n",
       "    .dataframe tbody tr th:only-of-type {\n",
       "        vertical-align: middle;\n",
       "    }\n",
       "\n",
       "    .dataframe tbody tr th {\n",
       "        vertical-align: top;\n",
       "    }\n",
       "\n",
       "    .dataframe thead th {\n",
       "        text-align: right;\n",
       "    }\n",
       "</style>\n",
       "<table border=\"1\" class=\"dataframe\">\n",
       "  <thead>\n",
       "    <tr style=\"text-align: right;\">\n",
       "      <th></th>\n",
       "      <th>w1</th>\n",
       "      <th>w2</th>\n",
       "      <th>word</th>\n",
       "      <th>input</th>\n",
       "    </tr>\n",
       "  </thead>\n",
       "  <tbody>\n",
       "    <tr>\n",
       "      <th>0</th>\n",
       "      <td>0.044664</td>\n",
       "      <td>-0.258994</td>\n",
       "      <td>Troll2</td>\n",
       "      <td>input1</td>\n",
       "    </tr>\n",
       "    <tr>\n",
       "      <th>1</th>\n",
       "      <td>0.477857</td>\n",
       "      <td>-0.466748</td>\n",
       "      <td>is</td>\n",
       "      <td>input2</td>\n",
       "    </tr>\n",
       "    <tr>\n",
       "      <th>2</th>\n",
       "      <td>0.136899</td>\n",
       "      <td>0.475128</td>\n",
       "      <td>great</td>\n",
       "      <td>input3</td>\n",
       "    </tr>\n",
       "    <tr>\n",
       "      <th>3</th>\n",
       "      <td>0.310561</td>\n",
       "      <td>0.305626</td>\n",
       "      <td>Gymkata</td>\n",
       "      <td>input4</td>\n",
       "    </tr>\n",
       "  </tbody>\n",
       "</table>\n",
       "</div>"
      ],
      "text/plain": [
       "         w1        w2     word   input\n",
       "0  0.044664 -0.258994   Troll2  input1\n",
       "1  0.477857 -0.466748       is  input2\n",
       "2  0.136899  0.475128    great  input3\n",
       "3  0.310561  0.305626  Gymkata  input4"
      ]
     },
     "execution_count": 10,
     "metadata": {},
     "output_type": "execute_result"
    }
   ],
   "source": [
    "data = {\n",
    "    \"w1\" : [model_scratch.input1_w1.item(),\n",
    "           model_scratch.input2_w1.item(),\n",
    "           model_scratch.input3_w1.item(),\n",
    "           model_scratch.input4_w1.item()] , \n",
    "    \"w2\" : [model_scratch.input1_w2.item(),\n",
    "           model_scratch.input2_w2.item(),\n",
    "           model_scratch.input3_w2.item(),\n",
    "           model_scratch.input4_w2.item()] , \n",
    "    \"word\" : [\"Troll2\", \"is\", \"great\", \"Gymkata\"] , \n",
    "    \"input\" : [\"input1\", \"input2\", \"input3\", \"input4\"]\n",
    "}\n",
    "df = pd.DataFrame(data)\n",
    "df"
   ]
  },
  {
   "cell_type": "code",
   "execution_count": 14,
   "id": "23645391-72ff-4245-8c2f-deb1b5af8502",
   "metadata": {},
   "outputs": [
    {
     "data": {
      "image/png": "[encoded data removed]",
      "text/plain": [
       "<Figure size 640x480 with 1 Axes>"
      ]
     },
     "metadata": {},
     "output_type": "display_data"
    }
   ],
   "source": [
    "sns.scatterplot(data = df, x = \"w1\", y = \"w2\")\n",
    "for i in range(4):\n",
    "    plt.text(df.w1[i], df.w2[i], df.word[i])"
   ]
  },
  {
   "cell_type": "code",
   "execution_count": 15,
   "id": "9b7d0f94-8ff2-46c1-9adf-4fe8f079f936",
   "metadata": {},
   "outputs": [
    {
     "name": "stderr",
     "output_type": "stream",
     "text": [
      "GPU available: True (cuda), used: True\n",
      "TPU available: False, using: 0 TPU cores\n",
      "IPU available: False, using: 0 IPUs\n",
      "HPU available: False, using: 0 HPUs\n",
      "You are using a CUDA device ('NVIDIA GeForce RTX 3050 Laptop GPU') that has Tensor Cores. To properly utilize them, you should set `torch.set_float32_matmul_precision('medium' | 'high')` which will trade-off precision for performance. For more details, read https://pytorch.org/docs/stable/generated/torch.set_float32_matmul_precision.html#torch.set_float32_matmul_precision\n",
      "LOCAL_RANK: 0 - CUDA_VISIBLE_DEVICES: [0]\n",
      "\n",
      "  | Name         | Type             | Params\n",
      "--------------------------------------------------\n",
      "0 | loss         | CrossEntropyLoss | 0     \n",
      "  | other params | n/a              | 16    \n",
      "--------------------------------------------------\n",
      "16        Trainable params\n",
      "0         Non-trainable params\n",
      "16        Total params\n",
      "0.000     Total estimated model params size (MB)\n",
      "C:\\Users\\Pratham\\AppData\\Local\\Programs\\Python\\Python310\\lib\\site-packages\\lightning\\pytorch\\trainer\\connectors\\data_connector.py:441: The 'train_dataloader' does not have many workers which may be a bottleneck. Consider increasing the value of the `num_workers` argument` to `num_workers=15` in the `DataLoader` to improve performance.\n",
      "C:\\Users\\Pratham\\AppData\\Local\\Programs\\Python\\Python310\\lib\\site-packages\\lightning\\pytorch\\loops\\fit_loop.py:293: The number of training batches (4) is smaller than the logging interval Trainer(log_every_n_steps=50). Set a lower value for log_every_n_steps if you want to see logs for the training epoch.\n"
     ]
    },
    {
     "data": {
      "application/vnd.jupyter.widget-view+json": {
       "model_id": "b4b8aa1888844691aa2c1e456cd497e4",
       "version_major": 2,
       "version_minor": 0
      },
      "text/plain": [
       "Training: |                                                                                      | 0/? [00:00<…"
      ]
     },
     "metadata": {},
     "output_type": "display_data"
    },
    {
     "name": "stderr",
     "output_type": "stream",
     "text": [
      "`Trainer.fit` stopped: `max_epochs=100` reached.\n"
     ]
    }
   ],
   "source": [
    "trainer = L.Trainer(max_epochs=100)\n",
    "trainer.fit(model_scratch, train_dataloaders=dataloader)"
   ]
  },
  {
   "cell_type": "code",
   "execution_count": 16,
   "id": "3254e763-ecc1-44f2-92db-8bda77ddd232",
   "metadata": {},
   "outputs": [
    {
     "data": {
      "text/html": [
       "<div>\n",
       "<style scoped>\n",
       "    .dataframe tbody tr th:only-of-type {\n",
       "        vertical-align: middle;\n",
       "    }\n",
       "\n",
       "    .dataframe tbody tr th {\n",
       "        vertical-align: top;\n",
       "    }\n",
       "\n",
       "    .dataframe thead th {\n",
       "        text-align: right;\n",
       "    }\n",
       "</style>\n",
       "<table border=\"1\" class=\"dataframe\">\n",
       "  <thead>\n",
       "    <tr style=\"text-align: right;\">\n",
       "      <th></th>\n",
       "      <th>w1</th>\n",
       "      <th>w2</th>\n",
       "      <th>word</th>\n",
       "      <th>input</th>\n",
       "    </tr>\n",
       "  </thead>\n",
       "  <tbody>\n",
       "    <tr>\n",
       "      <th>0</th>\n",
       "      <td>2.278541</td>\n",
       "      <td>-1.281793</td>\n",
       "      <td>Troll2</td>\n",
       "      <td>input1</td>\n",
       "    </tr>\n",
       "    <tr>\n",
       "      <th>1</th>\n",
       "      <td>-1.360128</td>\n",
       "      <td>-3.110084</td>\n",
       "      <td>is</td>\n",
       "      <td>input2</td>\n",
       "    </tr>\n",
       "    <tr>\n",
       "      <th>2</th>\n",
       "      <td>1.132472</td>\n",
       "      <td>2.778224</td>\n",
       "      <td>great</td>\n",
       "      <td>input3</td>\n",
       "    </tr>\n",
       "    <tr>\n",
       "      <th>3</th>\n",
       "      <td>2.257237</td>\n",
       "      <td>-1.146011</td>\n",
       "      <td>Gymkata</td>\n",
       "      <td>input4</td>\n",
       "    </tr>\n",
       "  </tbody>\n",
       "</table>\n",
       "</div>"
      ],
      "text/plain": [
       "         w1        w2     word   input\n",
       "0  2.278541 -1.281793   Troll2  input1\n",
       "1 -1.360128 -3.110084       is  input2\n",
       "2  1.132472  2.778224    great  input3\n",
       "3  2.257237 -1.146011  Gymkata  input4"
      ]
     },
     "execution_count": 16,
     "metadata": {},
     "output_type": "execute_result"
    }
   ],
   "source": [
    "data = {\n",
    "    \"w1\" : [model_scratch.input1_w1.item(),\n",
    "           model_scratch.input2_w1.item(),\n",
    "           model_scratch.input3_w1.item(),\n",
    "           model_scratch.input4_w1.item()] , \n",
    "    \"w2\" : [model_scratch.input1_w2.item(),\n",
    "           model_scratch.input2_w2.item(),\n",
    "           model_scratch.input3_w2.item(),\n",
    "           model_scratch.input4_w2.item()] , \n",
    "    \"word\" : [\"Troll2\", \"is\", \"great\", \"Gymkata\"] , \n",
    "    \"input\" : [\"input1\", \"input2\", \"input3\", \"input4\"]\n",
    "}\n",
    "df = pd.DataFrame(data)\n",
    "df"
   ]
  },
  {
   "cell_type": "code",
   "execution_count": 17,
   "id": "fdf22aca-c3fd-4eda-a7f5-f11bfcb68d25",
   "metadata": {},
   "outputs": [
    {
     "data": {
      "image/png": "[encoded data removed]",
      "text/plain": [
       "<Figure size 640x480 with 1 Axes>"
      ]
     },
     "metadata": {},
     "output_type": "display_data"
    }
   ],
   "source": [
    "sns.scatterplot(data = df, x = \"w1\", y = \"w2\")\n",
    "for i in range(4):\n",
    "    plt.text(df.w1[i], df.w2[i], df.word[i])"
   ]
  },
  {
   "cell_type": "code",
   "execution_count": 18,
   "id": "8432fbbd-c70a-4789-b12f-556c797fbd77",
   "metadata": {},
   "outputs": [
    {
     "name": "stdout",
     "output_type": "stream",
     "text": [
      "tensor([0., 1., 0., 0.], grad_fn=<RoundBackward1>)\n"
     ]
    }
   ],
   "source": [
    "softmax = nn.Softmax(dim=0)\n",
    "\n",
    "print(torch.round(softmax(model_scratch(torch.tensor([[1.,0.,0.,0.]]))), decimals=2))"
   ]
  },
  {
   "cell_type": "markdown",
   "id": "01323096-c6a7-4d3b-a8e8-447365d26445",
   "metadata": {},
   "source": [
    "* Using nn.Linear()"
   ]
  },
  {
   "cell_type": "code",
   "execution_count": 19,
   "id": "0bfacbec-2846-49ac-84e1-456b7d9ed58b",
   "metadata": {},
   "outputs": [],
   "source": [
    "class WordEmbeddLinear(L.LightningModule):\n",
    "    def __init__(self):\n",
    "        super().__init__()\n",
    "\n",
    "        self.input_to_hidden = nn.Linear(in_features=4, out_features=2, bias=False)\n",
    "        self.hidden_to_output = nn.Linear(in_features=2, out_features=4, bias=False)\n",
    "\n",
    "        self.loss = nn.CrossEntropyLoss()\n",
    "\n",
    "    def forward(self, input):\n",
    "        hidden = self.input_to_hidden(input)\n",
    "        output_values = self.hidden_to_output(hidden)\n",
    "\n",
    "        return output_values\n",
    "\n",
    "    def configure_optimizers(self):\n",
    "        return Adam(self.parameters(), lr=0.1)\n",
    "\n",
    "    def training_step(self, batch, batch_idx):\n",
    "        input_i, label_i = batch\n",
    "        output_i = self.forward(input_i)\n",
    "        loss = self.loss(output_i, label_i)\n",
    "\n",
    "        return loss"
   ]
  },
  {
   "cell_type": "code",
   "execution_count": 24,
   "id": "d64af8a1-6014-428d-8749-10074afb6e91",
   "metadata": {
    "scrolled": true
   },
   "outputs": [
    {
     "data": {
      "text/html": [
       "<div>\n",
       "<style scoped>\n",
       "    .dataframe tbody tr th:only-of-type {\n",
       "        vertical-align: middle;\n",
       "    }\n",
       "\n",
       "    .dataframe tbody tr th {\n",
       "        vertical-align: top;\n",
       "    }\n",
       "\n",
       "    .dataframe thead th {\n",
       "        text-align: right;\n",
       "    }\n",
       "</style>\n",
       "<table border=\"1\" class=\"dataframe\">\n",
       "  <thead>\n",
       "    <tr style=\"text-align: right;\">\n",
       "      <th></th>\n",
       "      <th>w1</th>\n",
       "      <th>w2</th>\n",
       "      <th>token</th>\n",
       "      <th>input</th>\n",
       "    </tr>\n",
       "  </thead>\n",
       "  <tbody>\n",
       "    <tr>\n",
       "      <th>0</th>\n",
       "      <td>-0.054960</td>\n",
       "      <td>-0.346771</td>\n",
       "      <td>Troll2</td>\n",
       "      <td>input1</td>\n",
       "    </tr>\n",
       "    <tr>\n",
       "      <th>1</th>\n",
       "      <td>-0.364397</td>\n",
       "      <td>-0.283785</td>\n",
       "      <td>is</td>\n",
       "      <td>input2</td>\n",
       "    </tr>\n",
       "    <tr>\n",
       "      <th>2</th>\n",
       "      <td>-0.430642</td>\n",
       "      <td>0.248248</td>\n",
       "      <td>great</td>\n",
       "      <td>input3</td>\n",
       "    </tr>\n",
       "    <tr>\n",
       "      <th>3</th>\n",
       "      <td>0.472206</td>\n",
       "      <td>-0.196625</td>\n",
       "      <td>Gymkata</td>\n",
       "      <td>input4</td>\n",
       "    </tr>\n",
       "  </tbody>\n",
       "</table>\n",
       "</div>"
      ],
      "text/plain": [
       "         w1        w2    token   input\n",
       "0 -0.054960 -0.346771   Troll2  input1\n",
       "1 -0.364397 -0.283785       is  input2\n",
       "2 -0.430642  0.248248    great  input3\n",
       "3  0.472206 -0.196625  Gymkata  input4"
      ]
     },
     "execution_count": 24,
     "metadata": {},
     "output_type": "execute_result"
    }
   ],
   "source": [
    "model_linear = WordEmbeddLinear()\n",
    "\n",
    "data = {\n",
    "    \"w1\": model_linear.input_to_hidden.weight.detach()[0].numpy(),\n",
    "    \"w2\": model_linear.input_to_hidden.weight.detach()[1].numpy(),\n",
    "    \"token\": [\"Troll2\", \"is\", \"great\", \"Gymkata\"],\n",
    "    \"input\" : [\"input1\", \"input2\", \"input3\", \"input4\"]\n",
    "}\n",
    "df = pd.DataFrame(data)\n",
    "df"
   ]
  },
  {
   "cell_type": "code",
   "execution_count": 26,
   "id": "3396cbe1-f0d6-49ae-8a68-1714af960add",
   "metadata": {},
   "outputs": [
    {
     "data": {
      "image/png": "[encoded data removed]",
      "text/plain": [
       "<Figure size 640x480 with 1 Axes>"
      ]
     },
     "metadata": {},
     "output_type": "display_data"
    }
   ],
   "source": [
    "sns.scatterplot(data = df, x = \"w1\", y = \"w2\")\n",
    "for i in range(4):\n",
    "    plt.text(df.w1[i], df.w2[i], df.token[i])"
   ]
  },
  {
   "cell_type": "code",
   "execution_count": 27,
   "id": "c5ab14d1-1f9c-43b8-a21e-faa9e8e370dc",
   "metadata": {},
   "outputs": [
    {
     "name": "stderr",
     "output_type": "stream",
     "text": [
      "GPU available: True (cuda), used: True\n",
      "TPU available: False, using: 0 TPU cores\n",
      "IPU available: False, using: 0 IPUs\n",
      "HPU available: False, using: 0 HPUs\n",
      "LOCAL_RANK: 0 - CUDA_VISIBLE_DEVICES: [0]\n",
      "\n",
      "  | Name             | Type             | Params\n",
      "------------------------------------------------------\n",
      "0 | input_to_hidden  | Linear           | 8     \n",
      "1 | hidden_to_output | Linear           | 8     \n",
      "2 | loss             | CrossEntropyLoss | 0     \n",
      "------------------------------------------------------\n",
      "16        Trainable params\n",
      "0         Non-trainable params\n",
      "16        Total params\n",
      "0.000     Total estimated model params size (MB)\n",
      "C:\\Users\\Pratham\\AppData\\Local\\Programs\\Python\\Python310\\lib\\site-packages\\lightning\\pytorch\\trainer\\connectors\\data_connector.py:441: The 'train_dataloader' does not have many workers which may be a bottleneck. Consider increasing the value of the `num_workers` argument` to `num_workers=15` in the `DataLoader` to improve performance.\n",
      "C:\\Users\\Pratham\\AppData\\Local\\Programs\\Python\\Python310\\lib\\site-packages\\lightning\\pytorch\\loops\\fit_loop.py:293: The number of training batches (4) is smaller than the logging interval Trainer(log_every_n_steps=50). Set a lower value for log_every_n_steps if you want to see logs for the training epoch.\n"
     ]
    },
    {
     "data": {
      "application/vnd.jupyter.widget-view+json": {
       "model_id": "4ae0254ae91f4cf1921f90f475560bc3",
       "version_major": 2,
       "version_minor": 0
      },
      "text/plain": [
       "Training: |                                                                                      | 0/? [00:00<…"
      ]
     },
     "metadata": {},
     "output_type": "display_data"
    },
    {
     "name": "stderr",
     "output_type": "stream",
     "text": [
      "`Trainer.fit` stopped: `max_epochs=100` reached.\n"
     ]
    }
   ],
   "source": [
    "trainer = L.Trainer(max_epochs=100)\n",
    "trainer.fit(model_linear, train_dataloaders=dataloader)"
   ]
  },
  {
   "cell_type": "code",
   "execution_count": 28,
   "id": "a403b4a4-3e42-4eb1-b00b-411ca9873829",
   "metadata": {},
   "outputs": [
    {
     "data": {
      "text/html": [
       "<div>\n",
       "<style scoped>\n",
       "    .dataframe tbody tr th:only-of-type {\n",
       "        vertical-align: middle;\n",
       "    }\n",
       "\n",
       "    .dataframe tbody tr th {\n",
       "        vertical-align: top;\n",
       "    }\n",
       "\n",
       "    .dataframe thead th {\n",
       "        text-align: right;\n",
       "    }\n",
       "</style>\n",
       "<table border=\"1\" class=\"dataframe\">\n",
       "  <thead>\n",
       "    <tr style=\"text-align: right;\">\n",
       "      <th></th>\n",
       "      <th>w1</th>\n",
       "      <th>w2</th>\n",
       "      <th>token</th>\n",
       "      <th>input</th>\n",
       "    </tr>\n",
       "  </thead>\n",
       "  <tbody>\n",
       "    <tr>\n",
       "      <th>0</th>\n",
       "      <td>0.799310</td>\n",
       "      <td>-2.161201</td>\n",
       "      <td>Troll2</td>\n",
       "      <td>input1</td>\n",
       "    </tr>\n",
       "    <tr>\n",
       "      <th>1</th>\n",
       "      <td>-2.843625</td>\n",
       "      <td>-0.582257</td>\n",
       "      <td>is</td>\n",
       "      <td>input2</td>\n",
       "    </tr>\n",
       "    <tr>\n",
       "      <th>2</th>\n",
       "      <td>-0.697628</td>\n",
       "      <td>2.817682</td>\n",
       "      <td>great</td>\n",
       "      <td>input3</td>\n",
       "    </tr>\n",
       "    <tr>\n",
       "      <th>3</th>\n",
       "      <td>0.738656</td>\n",
       "      <td>-2.235638</td>\n",
       "      <td>Gymkata</td>\n",
       "      <td>input4</td>\n",
       "    </tr>\n",
       "  </tbody>\n",
       "</table>\n",
       "</div>"
      ],
      "text/plain": [
       "         w1        w2    token   input\n",
       "0  0.799310 -2.161201   Troll2  input1\n",
       "1 -2.843625 -0.582257       is  input2\n",
       "2 -0.697628  2.817682    great  input3\n",
       "3  0.738656 -2.235638  Gymkata  input4"
      ]
     },
     "execution_count": 28,
     "metadata": {},
     "output_type": "execute_result"
    }
   ],
   "source": [
    "data = {\n",
    "    \"w1\": model_linear.input_to_hidden.weight.detach()[0].numpy(),\n",
    "    \"w2\": model_linear.input_to_hidden.weight.detach()[1].numpy(),\n",
    "    \"token\": [\"Troll2\", \"is\", \"great\", \"Gymkata\"],\n",
    "    \"input\" : [\"input1\", \"input2\", \"input3\", \"input4\"]\n",
    "}\n",
    "df = pd.DataFrame(data)\n",
    "df"
   ]
  },
  {
   "cell_type": "code",
   "execution_count": 29,
   "id": "ee20fa08-1c10-47ee-932d-03aa53410c1b",
   "metadata": {},
   "outputs": [
    {
     "data": {
      "image/png": "[encoded data removed]",
      "text/plain": [
       "<Figure size 640x480 with 1 Axes>"
      ]
     },
     "metadata": {},
     "output_type": "display_data"
    }
   ],
   "source": [
    "sns.scatterplot(data = df, x = \"w1\", y = \"w2\")\n",
    "for i in range(4):\n",
    "    plt.text(df.w1[i], df.w2[i], df.token[i])"
   ]
  },
  {
   "cell_type": "markdown",
   "id": "d531b017-2c5f-43e0-8316-c6086244e437",
   "metadata": {},
   "source": [
    "* Loading and using pretrained embedding"
   ]
  },
  {
   "cell_type": "code",
   "execution_count": 30,
   "id": "f1ed2136-ccff-48aa-b388-f23180380fb5",
   "metadata": {},
   "outputs": [
    {
     "data": {
      "text/plain": [
       "Parameter containing:\n",
       "tensor([[ 0.7993, -2.8436, -0.6976,  0.7387],\n",
       "        [-2.1612, -0.5823,  2.8177, -2.2356]], requires_grad=True)"
      ]
     },
     "execution_count": 30,
     "metadata": {},
     "output_type": "execute_result"
    }
   ],
   "source": [
    "model_linear.input_to_hidden.weight"
   ]
  },
  {
   "cell_type": "code",
   "execution_count": 31,
   "id": "0506e4b9-293f-4ebf-bfa7-b4817d4201ce",
   "metadata": {},
   "outputs": [
    {
     "data": {
      "text/plain": [
       "Parameter containing:\n",
       "tensor([[ 0.7993, -2.1612],\n",
       "        [-2.8436, -0.5823],\n",
       "        [-0.6976,  2.8177],\n",
       "        [ 0.7387, -2.2356]])"
      ]
     },
     "execution_count": 31,
     "metadata": {},
     "output_type": "execute_result"
    }
   ],
   "source": [
    "word_embeddings = nn.Embedding.from_pretrained(model_linear.input_to_hidden.weight.T)\n",
    "\n",
    "word_embeddings.weight"
   ]
  },
  {
   "cell_type": "code",
   "execution_count": 32,
   "id": "c4246518-d638-4d1e-a4bc-a9e80df38e72",
   "metadata": {},
   "outputs": [
    {
     "data": {
      "text/plain": [
       "tensor([ 0.7993, -2.1612])"
      ]
     },
     "execution_count": 32,
     "metadata": {},
     "output_type": "execute_result"
    }
   ],
   "source": [
    "word_embeddings(torch.tensor(0))"
   ]
  },
  {
   "cell_type": "code",
   "execution_count": 33,
   "id": "08f65640-9957-45f9-8b46-61b0bd7776ba",
   "metadata": {},
   "outputs": [
    {
     "data": {
      "text/plain": [
       "tensor([ 0.7993, -2.1612])"
      ]
     },
     "execution_count": 33,
     "metadata": {},
     "output_type": "execute_result"
    }
   ],
   "source": [
    "vocab = {'Troll2': 0,\n",
    "         'is': 1,\n",
    "         'great': 2,\n",
    "         'Gymkata': 3}\n",
    "\n",
    "word_embeddings(torch.tensor(vocab['Troll2']))"
   ]
  }
 ],
 "metadata": {
  "kernelspec": {
   "display_name": "Python 3 (ipykernel)",
   "language": "python",
   "name": "python3"
  },
  "language_info": {
   "codemirror_mode": {
    "name": "ipython",
    "version": 3
   },
   "file_extension": ".py",
   "mimetype": "text/x-python",
   "name": "python",
   "nbconvert_exporter": "python",
   "pygments_lexer": "ipython3",
   "version": "3.10.0"
  }
 },
 "nbformat": 4,
 "nbformat_minor": 5
}
