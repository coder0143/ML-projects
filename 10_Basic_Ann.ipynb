{
  "cells": [
    {
      "cell_type": "markdown",
      "metadata": {
        "id": "lMnfOc_K18Y1"
      },
      "source": [
        "# Implementing MLP with Pytorch"
      ]
    },
    {
      "cell_type": "markdown",
      "metadata": {
        "id": "nFTOrEj418Y4"
      },
      "source": [
        "## Simple image classifier using nn.Sequential"
      ]
    },
    {
      "cell_type": "markdown",
      "metadata": {
        "id": "yCjLoDHn18Y5"
      },
      "source": [
        "* Loading the necessary libraries and their helper functions"
      ]
    },
    {
      "cell_type": "code",
      "execution_count": 1,
      "metadata": {
        "id": "gbbW9h-018Y5"
      },
      "outputs": [],
      "source": [
        "import numpy as np\n",
        "import pandas as pd\n",
        "import matplotlib.pyplot as plt\n",
        "\n",
        "import torch\n",
        "import torch.nn as nn\n",
        "import torch.nn.functional as F\n",
        "import torchvision\n",
        "from torch.utils.data import TensorDataset, DataLoader\n",
        "from torch.optim import SGD, Adam, AdamW\n",
        "from tqdm import tqdm\n",
        "from collections import OrderedDict\n",
        "\n",
        "import warnings\n",
        "warnings.filterwarnings('ignore')"
      ]
    },
    {
      "cell_type": "markdown",
      "metadata": {
        "id": "UYCQ97Z918Y7"
      },
      "source": [
        "* Setting up device"
      ]
    },
    {
      "cell_type": "code",
      "execution_count": 2,
      "metadata": {
        "colab": {
          "base_uri": "https://localhost:8080/"
        },
        "id": "-zC5rZOt18Y7",
        "outputId": "e1e68ed2-4828-4553-d8e9-7435aef08cb7"
      },
      "outputs": [
        {
          "data": {
            "text/plain": [
              "device(type='cuda', index=0)"
            ]
          },
          "execution_count": 2,
          "metadata": {},
          "output_type": "execute_result"
        }
      ],
      "source": [
        "device = torch.device(\"cuda:0\" if torch.cuda.is_available() else \"cpu\")\n",
        "device"
      ]
    },
    {
      "cell_type": "markdown",
      "metadata": {
        "id": "l38svuUY18Y8"
      },
      "source": [
        "* This code downloads the dataset to the created FashionMnist directory, dataset consists of 60000 images in train set and 10000 images in the test set along with their corresponding labels"
      ]
    },
    {
      "cell_type": "code",
      "execution_count": 3,
      "metadata": {
        "colab": {
          "base_uri": "https://localhost:8080/"
        },
        "id": "eLxQDdfe18Y9",
        "outputId": "354c7d83-530a-4b23-b3c4-d94a409c1250"
      },
      "outputs": [],
      "source": [
        "train_dataset = torchvision.datasets.FashionMNIST('./FashionMnist',train=True, download=False, transform=None)\n",
        "test_dataset = torchvision.datasets.FashionMNIST('./FashionMnist',train=False, download=False, transform=None)"
      ]
    },
    {
      "cell_type": "markdown",
      "metadata": {
        "id": "VXsU7SRb18Y-"
      },
      "source": [
        "* Data splitting and preparation"
      ]
    },
    {
      "cell_type": "code",
      "execution_count": 4,
      "metadata": {
        "id": "CVt6PZAr18Y_"
      },
      "outputs": [],
      "source": [
        "X_train_full, y_train_full = train_dataset.train_data, train_dataset.train_labels\n",
        "X_train, y_train = X_train_full[:-5000], y_train_full[:-5000]\n",
        "X_valid, y_valid = X_train_full[-5000:], y_train_full[-5000:]"
      ]
    },
    {
      "cell_type": "code",
      "execution_count": 5,
      "metadata": {
        "id": "ORCCqd_418ZA"
      },
      "outputs": [],
      "source": [
        "X_test, y_test = test_dataset.test_data, test_dataset.test_labels"
      ]
    },
    {
      "cell_type": "markdown",
      "metadata": {
        "id": "f-rV3jz75KrX"
      },
      "source": [
        "* Moving all tensors to gpu"
      ]
    },
    {
      "cell_type": "code",
      "execution_count": 6,
      "metadata": {
        "id": "ZxpjqfDy5Nsu"
      },
      "outputs": [],
      "source": [
        "X_train, y_train = X_train.to(device), y_train.to(device)\n",
        "X_valid, y_valid = X_valid.to(device), y_valid.to(device)\n",
        "X_test, y_test = X_test.to(device), y_test.to(device)"
      ]
    },
    {
      "cell_type": "code",
      "execution_count": null,
      "metadata": {
        "colab": {
          "base_uri": "https://localhost:8080/"
        },
        "id": "rzJBJVHj18ZA",
        "outputId": "4772b7e5-4c9d-4da8-d4f1-fd12b92573b9"
      },
      "outputs": [
        {
          "name": "stdout",
          "output_type": "stream",
          "text": [
            "X_train shape: torch.Size([55000, 28, 28]), y_train shape: torch.Size([55000])\n",
            "Dtype of X_train: torch.uint8\n",
            "X_test shape: torch.Size([10000, 28, 28]), y_test shape: torch.Size([10000])\n"
          ]
        }
      ],
      "source": [
        "print(f\"X_train shape: {X_train.shape}, y_train shape: {y_train.shape}\")\n",
        "print(f\"Dtype of X_train: {X_train.dtype}\")\n",
        "print(f\"X_test shape: {X_test.shape}, y_test shape: {y_test.shape}\")"
      ]
    },
    {
      "cell_type": "markdown",
      "metadata": {
        "id": "T2yMryzh18ZB"
      },
      "source": [
        "* Scaling pixel intensities to 0-1 range by dividing by 255"
      ]
    },
    {
      "cell_type": "code",
      "execution_count": 7,
      "metadata": {
        "id": "sHG_YhhG18ZB"
      },
      "outputs": [],
      "source": [
        "X_train, X_valid, X_test = X_train / 255., X_valid / 255., X_test / 255."
      ]
    },
    {
      "cell_type": "markdown",
      "metadata": {
        "id": "JcP9PmV418ZC"
      },
      "source": [
        "* Labels of train set"
      ]
    },
    {
      "cell_type": "code",
      "execution_count": null,
      "metadata": {
        "colab": {
          "base_uri": "https://localhost:8080/"
        },
        "id": "cD0O0NJB18ZC",
        "outputId": "67d67292-c05f-46cf-efd9-27067c175d7f"
      },
      "outputs": [
        {
          "data": {
            "text/plain": [
              "tensor([9, 0, 0,  ..., 9, 0, 2], device='cuda:0')"
            ]
          },
          "execution_count": 9,
          "metadata": {},
          "output_type": "execute_result"
        }
      ],
      "source": [
        "y_train"
      ]
    },
    {
      "cell_type": "markdown",
      "metadata": {
        "id": "NvYEcs8L18ZC"
      },
      "source": [
        "* Class names corresponding to labels"
      ]
    },
    {
      "cell_type": "code",
      "execution_count": 8,
      "metadata": {
        "id": "f1omCYFB18ZD"
      },
      "outputs": [],
      "source": [
        "class_names = [\"T-shirt/top\", \"Trouser\", \"Pullover\", \"Dress\", \"Coat\",\n",
        "               \"Sandal\", \"Shirt\", \"Sneaker\", \"Bag\", \"Ankle boot\"]"
      ]
    },
    {
      "cell_type": "code",
      "execution_count": null,
      "metadata": {
        "colab": {
          "base_uri": "https://localhost:8080/",
          "height": 448
        },
        "id": "AWvU02aM18ZD",
        "outputId": "8cb9be98-1f46-4eb1-f750-0e14aa6292b8"
      },
      "outputs": [
        {
          "data": {
            "image/png": "[encoded data removed]",
            "text/plain": [
              "<Figure size 1200x480 with 40 Axes>"
            ]
          },
          "metadata": {},
          "output_type": "display_data"
        }
      ],
      "source": [
        "# Plotting sample of training data\n",
        "n_rows = 4\n",
        "n_cols = 10\n",
        "plt.figure(figsize=(n_cols * 1.2, n_rows * 1.2))\n",
        "for row in range(n_rows):\n",
        "    for col in range(n_cols):\n",
        "        index = n_cols * row + col\n",
        "        plt.subplot(n_rows, n_cols, index + 1)\n",
        "        plt.imshow(X_train.cpu()[index], cmap=\"binary\", interpolation=\"nearest\")\n",
        "        plt.axis('off')\n",
        "        plt.title(class_names[y_train.cpu()[index]])\n",
        "plt.subplots_adjust(wspace=0.2, hspace=0.5)\n",
        "\n",
        "plt.show()"
      ]
    },
    {
      "cell_type": "markdown",
      "metadata": {
        "id": "bIxhjFpe18ZE"
      },
      "source": [
        "* Creating model using nn.Sequential"
      ]
    },
    {
      "cell_type": "code",
      "execution_count": 12,
      "metadata": {
        "id": "ee-_8Ga318ZE"
      },
      "outputs": [],
      "source": [
        "class MyModel(nn.Module):\n",
        "    def __init__(self):\n",
        "        super(MyModel, self).__init__()\n",
        "\n",
        "        self.model = nn.Sequential(OrderedDict([\n",
        "            ('Flatten', nn.Flatten()),\n",
        "            ('Dense1', nn.Linear(in_features=784,out_features=300)),\n",
        "            ('relu1', nn.ReLU()),\n",
        "            ('dense2', nn.Linear(in_features=300, out_features=100)),\n",
        "            ('relu2', nn.ReLU()),\n",
        "            ('Out_layer', nn.Linear(in_features=100, out_features=10))\n",
        "        ]))\n",
        "\n",
        "    def forward(self, input):\n",
        "        return self.model(input)\n"
      ]
    },
    {
      "cell_type": "markdown",
      "metadata": {
        "id": "enV7CTE918ZF"
      },
      "source": [
        "* Model summary can be visualized"
      ]
    },
    {
      "cell_type": "code",
      "execution_count": 42,
      "metadata": {
        "colab": {
          "base_uri": "https://localhost:8080/"
        },
        "id": "ewK4raiX18ZF",
        "outputId": "18965a48-7838-4cab-f85d-836fc13fe808"
      },
      "outputs": [
        {
          "data": {
            "text/plain": [
              "MyModel(\n",
              "  (model): Sequential(\n",
              "    (Flatten): Flatten(start_dim=1, end_dim=-1)\n",
              "    (Dense1): Linear(in_features=784, out_features=300, bias=True)\n",
              "    (relu1): ReLU()\n",
              "    (dense2): Linear(in_features=300, out_features=100, bias=True)\n",
              "    (relu2): ReLU()\n",
              "    (Out_layer): Linear(in_features=100, out_features=10, bias=True)\n",
              "  )\n",
              ")"
            ]
          },
          "execution_count": 42,
          "metadata": {},
          "output_type": "execute_result"
        }
      ],
      "source": [
        "classifier = MyModel().to(device) # moving model to gpu\n",
        "classifier"
      ]
    },
    {
      "cell_type": "code",
      "execution_count": 11,
      "metadata": {
        "colab": {
          "base_uri": "https://localhost:8080/"
        },
        "id": "62SDMgVm18ZH",
        "outputId": "59e80edb-0ea1-4b5d-f34a-2b94290ff4bd"
      },
      "outputs": [
        {
          "name": "stdout",
          "output_type": "stream",
          "text": [
            "Dense1 shape -> weight:torch.Size([300, 784]), bias:torch.Size([300])\n"
          ]
        }
      ],
      "source": [
        "print(f\"Dense1 shape -> weight:{classifier.model.Dense1.weight.shape}, bias:{classifier.model.Dense1.bias.shape}\")"
      ]
    },
    {
      "cell_type": "markdown",
      "metadata": {
        "id": "b_oN9XAX18ZI"
      },
      "source": [
        "### Training the model"
      ]
    },
    {
      "cell_type": "markdown",
      "metadata": {
        "id": "wwRis8Xf18ZI"
      },
      "source": [
        "* Creating train, val and test datasets using TensorDataset"
      ]
    },
    {
      "cell_type": "code",
      "execution_count": 31,
      "metadata": {
        "id": "1fXdHWul18ZI"
      },
      "outputs": [],
      "source": [
        "train_set = DataLoader(TensorDataset(X_train, y_train), batch_size=25)\n",
        "val_set = DataLoader(TensorDataset(X_valid, y_valid))\n",
        "test_set = DataLoader(TensorDataset(X_test, y_test))"
      ]
    },
    {
      "cell_type": "markdown",
      "metadata": {
        "id": "kZZ8kb4C18ZJ"
      },
      "source": [
        "* Defining loss and optimizer"
      ]
    },
    {
      "cell_type": "code",
      "execution_count": 43,
      "metadata": {
        "id": "7Fr1K2Qe18ZJ"
      },
      "outputs": [],
      "source": [
        "criterion = nn.CrossEntropyLoss()\n",
        "optimizer = SGD(classifier.parameters(), lr=0.05)"
      ]
    },
    {
      "cell_type": "markdown",
      "metadata": {
        "id": "OkgZ5g-O18ZJ"
      },
      "source": [
        "* Setting the tensors to gpu and creating y_train_enc which is one hot encoded for training the multiclass claffifier"
      ]
    },
    {
      "cell_type": "code",
      "execution_count": 44,
      "metadata": {
        "colab": {
          "base_uri": "https://localhost:8080/"
        },
        "id": "JA1iKGAe18ZJ",
        "outputId": "fbba6dde-39e5-4028-fd31-ba2fdfe56b55"
      },
      "outputs": [
        {
          "name": "stderr",
          "output_type": "stream",
          "text": [
            "100%|██████████| 2200/2200 [00:07<00:00, 292.35it/s]\n"
          ]
        },
        {
          "name": "stdout",
          "output_type": "stream",
          "text": [
            "Epoch: 1, loss: 0.025670873001217842, train_acc: 0.845690906047821, val_acc: 0.843999981880188\n"
          ]
        },
        {
          "name": "stderr",
          "output_type": "stream",
          "text": [
            "100%|██████████| 2200/2200 [00:07<00:00, 295.58it/s]\n"
          ]
        },
        {
          "name": "stdout",
          "output_type": "stream",
          "text": [
            "Epoch: 2, loss: 0.01691288873553276, train_acc: 0.8646363615989685, val_acc: 0.8561999797821045\n"
          ]
        },
        {
          "name": "stderr",
          "output_type": "stream",
          "text": [
            "100%|██████████| 2200/2200 [00:07<00:00, 293.70it/s]\n"
          ]
        },
        {
          "name": "stdout",
          "output_type": "stream",
          "text": [
            "Epoch: 3, loss: 0.015011187642812729, train_acc: 0.8728363513946533, val_acc: 0.861799955368042\n"
          ]
        },
        {
          "name": "stderr",
          "output_type": "stream",
          "text": [
            "100%|██████████| 2200/2200 [00:06<00:00, 351.66it/s]\n"
          ]
        },
        {
          "name": "stdout",
          "output_type": "stream",
          "text": [
            "Epoch: 4, loss: 0.013800712302327156, train_acc: 0.8797454237937927, val_acc: 0.8639999628067017\n"
          ]
        },
        {
          "name": "stderr",
          "output_type": "stream",
          "text": [
            "100%|██████████| 2200/2200 [00:05<00:00, 412.18it/s]\n"
          ]
        },
        {
          "name": "stdout",
          "output_type": "stream",
          "text": [
            "Epoch: 5, loss: 0.012909827753901482, train_acc: 0.8847817778587341, val_acc: 0.8637999892234802\n"
          ]
        },
        {
          "name": "stderr",
          "output_type": "stream",
          "text": [
            "100%|██████████| 2200/2200 [00:05<00:00, 407.57it/s]\n"
          ]
        },
        {
          "name": "stdout",
          "output_type": "stream",
          "text": [
            "Epoch: 6, loss: 0.012181238271296024, train_acc: 0.8884544968605042, val_acc: 0.8667999505996704\n"
          ]
        },
        {
          "name": "stderr",
          "output_type": "stream",
          "text": [
            "100%|██████████| 2200/2200 [00:05<00:00, 384.98it/s]\n"
          ]
        },
        {
          "name": "stdout",
          "output_type": "stream",
          "text": [
            "Epoch: 7, loss: 0.011557130143046379, train_acc: 0.8935090899467468, val_acc: 0.8700000047683716\n"
          ]
        },
        {
          "name": "stderr",
          "output_type": "stream",
          "text": [
            "100%|██████████| 2200/2200 [00:05<00:00, 418.31it/s]\n"
          ]
        },
        {
          "name": "stdout",
          "output_type": "stream",
          "text": [
            "Epoch: 8, loss: 0.01100589707493782, train_acc: 0.8944181799888611, val_acc: 0.8709999918937683\n"
          ]
        },
        {
          "name": "stderr",
          "output_type": "stream",
          "text": [
            "100%|██████████| 2200/2200 [00:06<00:00, 343.49it/s]\n"
          ]
        },
        {
          "name": "stdout",
          "output_type": "stream",
          "text": [
            "Epoch: 9, loss: 0.010517606511712074, train_acc: 0.90138179063797, val_acc: 0.8736000061035156\n"
          ]
        },
        {
          "name": "stderr",
          "output_type": "stream",
          "text": [
            "100%|██████████| 2200/2200 [00:07<00:00, 300.98it/s]\n"
          ]
        },
        {
          "name": "stdout",
          "output_type": "stream",
          "text": [
            "Epoch: 10, loss: 0.010074243880808353, train_acc: 0.9009636044502258, val_acc: 0.8707999587059021\n"
          ]
        }
      ],
      "source": [
        "n_epochs = 10\n",
        "loss_list = []\n",
        "train_acc_list = []\n",
        "val_acc_list = []\n",
        "\n",
        "for epoch in range(n_epochs):\n",
        "    total_loss = []\n",
        "    classifier.train()\n",
        "    for inputs, labels in tqdm(train_set):\n",
        "        outputs = classifier(inputs)\n",
        "        loss = criterion(outputs, labels)\n",
        "        total_loss.append(loss)\n",
        "\n",
        "        optimizer.zero_grad()\n",
        "        loss.backward()\n",
        "        optimizer.step()\n",
        "    loss_list.append(sum(total_loss)/(55000/5))\n",
        "\n",
        "    classifier.eval()\n",
        "    with torch.inference_mode():\n",
        "        train_acc = torch.sum(classifier(X_train).argmax(dim=1) == y_train) / 55000\n",
        "        val_acc = torch.sum(classifier(X_valid).argmax(dim=1) == y_valid) / 5000\n",
        "\n",
        "        train_acc_list.append(train_acc.item())\n",
        "        val_acc_list.append(val_acc.item())\n",
        "\n",
        "        print(f\"Epoch: {epoch+1}, loss: {sum(total_loss)/55000}, train_acc: {train_acc}, val_acc: {val_acc}\")\n"
      ]
    },
    {
      "cell_type": "code",
      "execution_count": 45,
      "metadata": {
        "colab": {
          "base_uri": "https://localhost:8080/"
        },
        "id": "0eDWFWP218ZJ",
        "outputId": "0d70f7ac-2b5a-4487-efa2-d101eb4b0766"
      },
      "outputs": [
        {
          "name": "stdout",
          "output_type": "stream",
          "text": [
            "test_acc: 0.8682000041007996\n"
          ]
        }
      ],
      "source": [
        "classifier.eval()\n",
        "with torch.inference_mode():\n",
        "        test_acc = torch.sum(classifier(X_test).argmax(dim=1) == y_test) / 10000\n",
        "        print(f\"test_acc: {test_acc}\")"
      ]
    },
    {
      "cell_type": "code",
      "execution_count": 46,
      "metadata": {},
      "outputs": [
        {
          "data": {
            "image/png": "[encoded data removed]",
            "text/plain": [
              "<Figure size 640x480 with 1 Axes>"
            ]
          },
          "metadata": {},
          "output_type": "display_data"
        }
      ],
      "source": [
        "xl = np.arange(1,n_epochs+1)\n",
        "\n",
        "plt.xlabel('Epochs')\n",
        "plt.ylabel('Accuracy values')\n",
        "plt.plot(xl, train_acc_list, label='train_acc')\n",
        "plt.plot(xl, val_acc_list, label='val_acc')\n",
        "plt.legend()\n",
        "plt.show()"
      ]
    },
    {
      "cell_type": "markdown",
      "metadata": {
        "id": "PXvNw_pZ5eYG"
      },
      "source": [
        "* Achieved 83% accuracy on test set"
      ]
    },
    {
      "cell_type": "markdown",
      "metadata": {
        "id": "FBHmi18i8JHe"
      },
      "source": [
        "## Regression MLP using nn.Sequential"
      ]
    },
    {
      "cell_type": "code",
      "execution_count": 61,
      "metadata": {
        "id": "Bgj_jRan4eoM"
      },
      "outputs": [
        {
          "data": {
            "text/plain": [
              "((20640, 8), (20640,))"
            ]
          },
          "execution_count": 61,
          "metadata": {},
          "output_type": "execute_result"
        }
      ],
      "source": [
        "from sklearn.datasets import fetch_california_housing\n",
        "\n",
        "data = fetch_california_housing()\n",
        "\n",
        "X_ch , y_ch = data.data, data.target\n",
        "X_ch.shape, y_ch.shape"
      ]
    },
    {
      "cell_type": "markdown",
      "metadata": {},
      "source": [
        "* Normalizing X_ch[:, 1], 2nd column"
      ]
    },
    {
      "cell_type": "code",
      "execution_count": 62,
      "metadata": {},
      "outputs": [],
      "source": [
        "X_ch_1_mean = np.mean(X_ch[:, 1])\n",
        "X_ch_1_std = np.std(X_ch[:, 1])\n",
        "X_ch[:, 1] = (X_ch[:, 1] - X_ch_1_mean)/(X_ch_1_std)"
      ]
    },
    {
      "cell_type": "markdown",
      "metadata": {},
      "source": [
        "* Splitting the data into train, val, test"
      ]
    },
    {
      "cell_type": "code",
      "execution_count": 63,
      "metadata": {
        "id": "vZ_XD8HQ7obq"
      },
      "outputs": [],
      "source": [
        "from sklearn.model_selection import train_test_split\n",
        "\n",
        "X_train_ch, X_test_ch, y_train_ch, y_test_ch = train_test_split(X_ch, y_ch, random_state=42)\n",
        "X_train_ch, X_valid_ch, y_train_ch, y_valid_ch = train_test_split(X_train_ch, y_train_ch, random_state=42)"
      ]
    },
    {
      "cell_type": "code",
      "execution_count": 64,
      "metadata": {
        "colab": {
          "base_uri": "https://localhost:8080/"
        },
        "id": "_uxeQl4F76wN",
        "outputId": "5824d28d-1d34-40f0-a2f3-f3d00a0f788f"
      },
      "outputs": [
        {
          "name": "stdout",
          "output_type": "stream",
          "text": [
            "X_train: (11610, 8), y_train: (11610,)\n",
            "X_valid: (3870, 8), y_valid: (3870,)\n",
            "X_test: (5160, 8), y_test: (5160,)\n"
          ]
        }
      ],
      "source": [
        "print(f\"X_train: {X_train_ch.shape}, y_train: {y_train_ch.shape}\")\n",
        "print(f\"X_valid: {X_valid_ch.shape}, y_valid: {y_valid_ch.shape}\")\n",
        "print(f\"X_test: {X_test_ch.shape}, y_test: {y_test_ch.shape}\")"
      ]
    },
    {
      "cell_type": "markdown",
      "metadata": {},
      "source": [
        "* Moving all data to gpu"
      ]
    },
    {
      "cell_type": "code",
      "execution_count": 65,
      "metadata": {
        "id": "lT4hUgmO7-en"
      },
      "outputs": [],
      "source": [
        "X_train_ch,y_train_ch = torch.tensor(X_train_ch).float().to(device),torch.tensor(y_train_ch).float().to(device)\n",
        "X_valid_ch,y_valid_ch = torch.tensor(X_valid_ch).float().to(device),torch.tensor(y_valid_ch).float().to(device)\n",
        "X_test_ch,y_test_ch = torch.tensor(X_test_ch).float().to(device),torch.tensor(y_test_ch).float().to(device)"
      ]
    },
    {
      "cell_type": "markdown",
      "metadata": {},
      "source": [
        "* Creating dataloader for training"
      ]
    },
    {
      "cell_type": "code",
      "execution_count": 66,
      "metadata": {},
      "outputs": [],
      "source": [
        "batch_size = 1\n",
        "train_dataloader = DataLoader(TensorDataset(X_train_ch,y_train_ch), batch_size=batch_size)"
      ]
    },
    {
      "cell_type": "markdown",
      "metadata": {},
      "source": [
        "* Basic regression model"
      ]
    },
    {
      "cell_type": "code",
      "execution_count": 67,
      "metadata": {},
      "outputs": [],
      "source": [
        "class My_Reg_model(nn.Module):\n",
        "    def __init__(self, input_size):\n",
        "        super().__init__()\n",
        "\n",
        "        self.model = nn.Sequential(\n",
        "            nn.Linear(input_size, 50),\n",
        "            nn.ReLU(),\n",
        "            nn.Linear(50, 50),\n",
        "            nn.ReLU(),\n",
        "            nn.Linear(50, 50),\n",
        "            nn.ReLU(),\n",
        "            nn.Linear(50, 1)\n",
        "        )\n",
        "\n",
        "    def forward(self, x):\n",
        "        return self.model(x)"
      ]
    },
    {
      "cell_type": "code",
      "execution_count": 68,
      "metadata": {},
      "outputs": [],
      "source": [
        "regressor = My_Reg_model(8).to(device)"
      ]
    },
    {
      "cell_type": "code",
      "execution_count": 69,
      "metadata": {},
      "outputs": [],
      "source": [
        "criterion = nn.MSELoss()\n",
        "optimizer = Adam(regressor.parameters(), lr=1e-3)"
      ]
    },
    {
      "cell_type": "markdown",
      "metadata": {},
      "source": [
        "* Using R2 score for evaluation"
      ]
    },
    {
      "cell_type": "code",
      "execution_count": 70,
      "metadata": {},
      "outputs": [],
      "source": [
        "from torchmetrics.regression import R2Score\n",
        "r2 = R2Score().to(device)"
      ]
    },
    {
      "cell_type": "markdown",
      "metadata": {},
      "source": [
        "* Training Script"
      ]
    },
    {
      "cell_type": "code",
      "execution_count": 71,
      "metadata": {},
      "outputs": [],
      "source": [
        "loss_list = []"
      ]
    },
    {
      "cell_type": "code",
      "execution_count": 72,
      "metadata": {},
      "outputs": [
        {
          "name": "stderr",
          "output_type": "stream",
          "text": [
            "100%|██████████| 11610/11610 [00:41<00:00, 280.08it/s]\n"
          ]
        },
        {
          "name": "stdout",
          "output_type": "stream",
          "text": [
            "Epoch: 1, train r2: 0.34815651178359985, validation r2: 0.3405414819717407, Mse: 1.9712289571762085\n"
          ]
        },
        {
          "name": "stderr",
          "output_type": "stream",
          "text": [
            "100%|██████████| 11610/11610 [00:38<00:00, 301.60it/s]\n"
          ]
        },
        {
          "name": "stdout",
          "output_type": "stream",
          "text": [
            "Epoch: 2, train r2: 0.5220191478729248, validation r2: 0.5364576578140259, Mse: 0.8577324151992798\n"
          ]
        },
        {
          "name": "stderr",
          "output_type": "stream",
          "text": [
            "100%|██████████| 11610/11610 [00:38<00:00, 302.50it/s]\n"
          ]
        },
        {
          "name": "stdout",
          "output_type": "stream",
          "text": [
            "Epoch: 3, train r2: 0.5553454160690308, validation r2: 0.549522876739502, Mse: 0.6989018321037292\n"
          ]
        },
        {
          "name": "stderr",
          "output_type": "stream",
          "text": [
            "100%|██████████| 11610/11610 [00:38<00:00, 299.66it/s]\n"
          ]
        },
        {
          "name": "stdout",
          "output_type": "stream",
          "text": [
            "Epoch: 4, train r2: 0.5526202917098999, validation r2: 0.5670479536056519, Mse: 0.6551335453987122\n"
          ]
        },
        {
          "name": "stderr",
          "output_type": "stream",
          "text": [
            "100%|██████████| 11610/11610 [00:41<00:00, 281.85it/s]\n"
          ]
        },
        {
          "name": "stdout",
          "output_type": "stream",
          "text": [
            "Epoch: 5, train r2: 0.5698211789131165, validation r2: 0.5832791328430176, Mse: 0.6325409412384033\n"
          ]
        },
        {
          "name": "stderr",
          "output_type": "stream",
          "text": [
            "100%|██████████| 11610/11610 [00:38<00:00, 303.32it/s]\n"
          ]
        },
        {
          "name": "stdout",
          "output_type": "stream",
          "text": [
            "Epoch: 6, train r2: 0.5860129594802856, validation r2: 0.526414155960083, Mse: 0.6265347003936768\n"
          ]
        },
        {
          "name": "stderr",
          "output_type": "stream",
          "text": [
            "100%|██████████| 11610/11610 [00:38<00:00, 305.14it/s]\n"
          ]
        },
        {
          "name": "stdout",
          "output_type": "stream",
          "text": [
            "Epoch: 7, train r2: 0.5953357815742493, validation r2: 0.6113133430480957, Mse: 0.6135559678077698\n"
          ]
        },
        {
          "name": "stderr",
          "output_type": "stream",
          "text": [
            "100%|██████████| 11610/11610 [00:36<00:00, 316.71it/s]\n"
          ]
        },
        {
          "name": "stdout",
          "output_type": "stream",
          "text": [
            "Epoch: 8, train r2: 0.6012091636657715, validation r2: 0.6156718730926514, Mse: 0.6091572642326355\n"
          ]
        },
        {
          "name": "stderr",
          "output_type": "stream",
          "text": [
            "100%|██████████| 11610/11610 [00:24<00:00, 470.28it/s]\n"
          ]
        },
        {
          "name": "stdout",
          "output_type": "stream",
          "text": [
            "Epoch: 9, train r2: 0.5654309988021851, validation r2: 0.580901026725769, Mse: 0.5860937237739563\n"
          ]
        },
        {
          "name": "stderr",
          "output_type": "stream",
          "text": [
            "100%|██████████| 11610/11610 [00:24<00:00, 467.19it/s]\n"
          ]
        },
        {
          "name": "stdout",
          "output_type": "stream",
          "text": [
            "Epoch: 10, train r2: 0.6000864505767822, validation r2: 0.6155253052711487, Mse: 0.5888743996620178\n"
          ]
        }
      ],
      "source": [
        "n_epochs = 10\n",
        "\n",
        "for epoch in range(n_epochs):\n",
        "    total_loss = []\n",
        "    regressor.train()\n",
        "    for inputs, labels in tqdm(train_dataloader):\n",
        "        outputs = regressor(inputs)\n",
        "        loss = criterion(outputs, labels)\n",
        "        total_loss.append(loss)\n",
        "\n",
        "        optimizer.zero_grad()\n",
        "        loss.backward()\n",
        "        optimizer.step()\n",
        "\n",
        "    avg_loss = sum(total_loss)/(len(X_train_ch)/batch_size)\n",
        "    loss_list.append(avg_loss)\n",
        "\n",
        "    regressor.eval()\n",
        "    with torch.inference_mode():\n",
        "        train_preds = regressor(X_train_ch)\n",
        "        train_preds = train_preds.reshape(train_preds.size(0))\n",
        "        train_r2 = r2(train_preds, y_train_ch)\n",
        "\n",
        "        val_preds = regressor(X_valid_ch)\n",
        "        val_preds = val_preds.reshape(val_preds.size(0))\n",
        "        val_r2 = r2(val_preds, y_valid_ch)\n",
        "\n",
        "        print(f\"Epoch: {epoch+1}, train r2: {train_r2}, validation r2: {val_r2}, Mse: {avg_loss}\")"
      ]
    },
    {
      "cell_type": "code",
      "execution_count": 73,
      "metadata": {},
      "outputs": [
        {
          "name": "stdout",
          "output_type": "stream",
          "text": [
            "Test r2: 0.598178505897522\n"
          ]
        }
      ],
      "source": [
        "regressor.eval()\n",
        "with torch.inference_mode():\n",
        "    test_preds = regressor(X_test_ch)\n",
        "    test_preds = test_preds.reshape(test_preds.size(0))\n",
        "    test_r2 = r2(test_preds, y_test_ch)\n",
        "    print(f\"Test r2: {test_r2}\")"
      ]
    },
    {
      "cell_type": "code",
      "execution_count": 74,
      "metadata": {},
      "outputs": [
        {
          "data": {
            "text/plain": [
              "[<matplotlib.lines.Line2D at 0x22f42963370>]"
            ]
          },
          "execution_count": 74,
          "metadata": {},
          "output_type": "execute_result"
        },
        {
          "data": {
            "image/png": "[encoded data removed]",
            "text/plain": [
              "<Figure size 640x480 with 1 Axes>"
            ]
          },
          "metadata": {},
          "output_type": "display_data"
        }
      ],
      "source": [
        "loss_list = [i.cpu().detach().numpy() for i in loss_list]\n",
        "plt.title(\"MSE loss\")\n",
        "plt.xlabel(\"Epochs\")\n",
        "plt.ylabel(\"Loss\")\n",
        "plt.plot(loss_list)"
      ]
    },
    {
      "cell_type": "code",
      "execution_count": null,
      "metadata": {},
      "outputs": [],
      "source": []
    }
  ],
  "metadata": {
    "accelerator": "GPU",
    "colab": {
      "gpuType": "T4",
      "provenance": []
    },
    "kernelspec": {
      "display_name": "Python 3",
      "name": "python3"
    },
    "language_info": {
      "codemirror_mode": {
        "name": "ipython",
        "version": 3
      },
      "file_extension": ".py",
      "mimetype": "text/x-python",
      "name": "python",
      "nbconvert_exporter": "python",
      "pygments_lexer": "ipython3",
      "version": "3.10.0"
    }
  },
  "nbformat": 4,
  "nbformat_minor": 0
}
