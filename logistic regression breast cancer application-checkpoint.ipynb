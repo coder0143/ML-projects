{
 "cells": [
  {
   "cell_type": "markdown",
   "id": "05f8342e",
   "metadata": {},
   "source": [
    "## logistic regression"
   ]
  },
  {
   "cell_type": "code",
   "execution_count": 1,
   "id": "84249bd9",
   "metadata": {},
   "outputs": [],
   "source": [
    "import numpy as np\n",
    "import pandas as pd\n",
    "import matplotlib.pyplot as plt"
   ]
  },
  {
   "cell_type": "code",
   "execution_count": 10,
   "id": "e1d52524",
   "metadata": {},
   "outputs": [],
   "source": [
    "dataset = pd.read_csv('breast_cancer.csv')"
   ]
  },
  {
   "cell_type": "code",
   "execution_count": 11,
   "id": "8fa577cf",
   "metadata": {},
   "outputs": [
    {
     "data": {
      "text/html": [
       "<div>\n",
       "<style scoped>\n",
       "    .dataframe tbody tr th:only-of-type {\n",
       "        vertical-align: middle;\n",
       "    }\n",
       "\n",
       "    .dataframe tbody tr th {\n",
       "        vertical-align: top;\n",
       "    }\n",
       "\n",
       "    .dataframe thead th {\n",
       "        text-align: right;\n",
       "    }\n",
       "</style>\n",
       "<table border=\"1\" class=\"dataframe\">\n",
       "  <thead>\n",
       "    <tr style=\"text-align: right;\">\n",
       "      <th></th>\n",
       "      <th>Clump Thickness</th>\n",
       "      <th>Uniformity of Cell Size</th>\n",
       "      <th>Uniformity of Cell Shape</th>\n",
       "      <th>Marginal Adhesion</th>\n",
       "      <th>Single Epithelial Cell Size</th>\n",
       "      <th>Bare Nuclei</th>\n",
       "      <th>Bland Chromatin</th>\n",
       "      <th>Normal Nucleoli</th>\n",
       "      <th>Mitoses</th>\n",
       "      <th>Class</th>\n",
       "    </tr>\n",
       "  </thead>\n",
       "  <tbody>\n",
       "    <tr>\n",
       "      <th>0</th>\n",
       "      <td>5</td>\n",
       "      <td>1</td>\n",
       "      <td>1</td>\n",
       "      <td>1</td>\n",
       "      <td>2</td>\n",
       "      <td>1</td>\n",
       "      <td>3</td>\n",
       "      <td>1</td>\n",
       "      <td>1</td>\n",
       "      <td>2</td>\n",
       "    </tr>\n",
       "    <tr>\n",
       "      <th>1</th>\n",
       "      <td>5</td>\n",
       "      <td>4</td>\n",
       "      <td>4</td>\n",
       "      <td>5</td>\n",
       "      <td>7</td>\n",
       "      <td>10</td>\n",
       "      <td>3</td>\n",
       "      <td>2</td>\n",
       "      <td>1</td>\n",
       "      <td>2</td>\n",
       "    </tr>\n",
       "    <tr>\n",
       "      <th>2</th>\n",
       "      <td>3</td>\n",
       "      <td>1</td>\n",
       "      <td>1</td>\n",
       "      <td>1</td>\n",
       "      <td>2</td>\n",
       "      <td>2</td>\n",
       "      <td>3</td>\n",
       "      <td>1</td>\n",
       "      <td>1</td>\n",
       "      <td>2</td>\n",
       "    </tr>\n",
       "    <tr>\n",
       "      <th>3</th>\n",
       "      <td>6</td>\n",
       "      <td>8</td>\n",
       "      <td>8</td>\n",
       "      <td>1</td>\n",
       "      <td>3</td>\n",
       "      <td>4</td>\n",
       "      <td>3</td>\n",
       "      <td>7</td>\n",
       "      <td>1</td>\n",
       "      <td>2</td>\n",
       "    </tr>\n",
       "    <tr>\n",
       "      <th>4</th>\n",
       "      <td>4</td>\n",
       "      <td>1</td>\n",
       "      <td>1</td>\n",
       "      <td>3</td>\n",
       "      <td>2</td>\n",
       "      <td>1</td>\n",
       "      <td>3</td>\n",
       "      <td>1</td>\n",
       "      <td>1</td>\n",
       "      <td>2</td>\n",
       "    </tr>\n",
       "    <tr>\n",
       "      <th>...</th>\n",
       "      <td>...</td>\n",
       "      <td>...</td>\n",
       "      <td>...</td>\n",
       "      <td>...</td>\n",
       "      <td>...</td>\n",
       "      <td>...</td>\n",
       "      <td>...</td>\n",
       "      <td>...</td>\n",
       "      <td>...</td>\n",
       "      <td>...</td>\n",
       "    </tr>\n",
       "    <tr>\n",
       "      <th>678</th>\n",
       "      <td>3</td>\n",
       "      <td>1</td>\n",
       "      <td>1</td>\n",
       "      <td>1</td>\n",
       "      <td>3</td>\n",
       "      <td>2</td>\n",
       "      <td>1</td>\n",
       "      <td>1</td>\n",
       "      <td>1</td>\n",
       "      <td>2</td>\n",
       "    </tr>\n",
       "    <tr>\n",
       "      <th>679</th>\n",
       "      <td>2</td>\n",
       "      <td>1</td>\n",
       "      <td>1</td>\n",
       "      <td>1</td>\n",
       "      <td>2</td>\n",
       "      <td>1</td>\n",
       "      <td>1</td>\n",
       "      <td>1</td>\n",
       "      <td>1</td>\n",
       "      <td>2</td>\n",
       "    </tr>\n",
       "    <tr>\n",
       "      <th>680</th>\n",
       "      <td>5</td>\n",
       "      <td>10</td>\n",
       "      <td>10</td>\n",
       "      <td>3</td>\n",
       "      <td>7</td>\n",
       "      <td>3</td>\n",
       "      <td>8</td>\n",
       "      <td>10</td>\n",
       "      <td>2</td>\n",
       "      <td>4</td>\n",
       "    </tr>\n",
       "    <tr>\n",
       "      <th>681</th>\n",
       "      <td>4</td>\n",
       "      <td>8</td>\n",
       "      <td>6</td>\n",
       "      <td>4</td>\n",
       "      <td>3</td>\n",
       "      <td>4</td>\n",
       "      <td>10</td>\n",
       "      <td>6</td>\n",
       "      <td>1</td>\n",
       "      <td>4</td>\n",
       "    </tr>\n",
       "    <tr>\n",
       "      <th>682</th>\n",
       "      <td>4</td>\n",
       "      <td>8</td>\n",
       "      <td>8</td>\n",
       "      <td>5</td>\n",
       "      <td>4</td>\n",
       "      <td>5</td>\n",
       "      <td>10</td>\n",
       "      <td>4</td>\n",
       "      <td>1</td>\n",
       "      <td>4</td>\n",
       "    </tr>\n",
       "  </tbody>\n",
       "</table>\n",
       "<p>683 rows × 10 columns</p>\n",
       "</div>"
      ],
      "text/plain": [
       "     Clump Thickness  Uniformity of Cell Size  Uniformity of Cell Shape  \\\n",
       "0                  5                        1                         1   \n",
       "1                  5                        4                         4   \n",
       "2                  3                        1                         1   \n",
       "3                  6                        8                         8   \n",
       "4                  4                        1                         1   \n",
       "..               ...                      ...                       ...   \n",
       "678                3                        1                         1   \n",
       "679                2                        1                         1   \n",
       "680                5                       10                        10   \n",
       "681                4                        8                         6   \n",
       "682                4                        8                         8   \n",
       "\n",
       "     Marginal Adhesion  Single Epithelial Cell Size  Bare Nuclei  \\\n",
       "0                    1                            2            1   \n",
       "1                    5                            7           10   \n",
       "2                    1                            2            2   \n",
       "3                    1                            3            4   \n",
       "4                    3                            2            1   \n",
       "..                 ...                          ...          ...   \n",
       "678                  1                            3            2   \n",
       "679                  1                            2            1   \n",
       "680                  3                            7            3   \n",
       "681                  4                            3            4   \n",
       "682                  5                            4            5   \n",
       "\n",
       "     Bland Chromatin  Normal Nucleoli  Mitoses  Class  \n",
       "0                  3                1        1      2  \n",
       "1                  3                2        1      2  \n",
       "2                  3                1        1      2  \n",
       "3                  3                7        1      2  \n",
       "4                  3                1        1      2  \n",
       "..               ...              ...      ...    ...  \n",
       "678                1                1        1      2  \n",
       "679                1                1        1      2  \n",
       "680                8               10        2      4  \n",
       "681               10                6        1      4  \n",
       "682               10                4        1      4  \n",
       "\n",
       "[683 rows x 10 columns]"
      ]
     },
     "execution_count": 11,
     "metadata": {},
     "output_type": "execute_result"
    }
   ],
   "source": [
    "dataset = dataset.drop(\"Sample code number\", axis = 'columns')\n",
    "dataset"
   ]
  },
  {
   "cell_type": "code",
   "execution_count": 39,
   "id": "63ab1a8c",
   "metadata": {},
   "outputs": [],
   "source": [
    "X = dataset.iloc[:, :-1].values\n",
    "y = dataset.iloc[:, -1].values"
   ]
  },
  {
   "cell_type": "markdown",
   "id": "2ee3c214",
   "metadata": {},
   "source": [
    "### splitting data "
   ]
  },
  {
   "cell_type": "code",
   "execution_count": 42,
   "id": "5a62c2f1",
   "metadata": {},
   "outputs": [],
   "source": [
    "from sklearn.model_selection import train_test_split\n",
    "X_train, X_test, y_train, y_test = train_test_split(X, y, test_size = 0.2,random_state = 0)"
   ]
  },
  {
   "cell_type": "code",
   "execution_count": 43,
   "id": "0b0dfdc1",
   "metadata": {},
   "outputs": [
    {
     "data": {
      "text/plain": [
       "array([[10,  1,  1, ...,  5,  4,  1],\n",
       "       [ 1,  1,  1, ...,  3,  1,  1],\n",
       "       [ 5,  1,  1, ...,  3,  1,  1],\n",
       "       ...,\n",
       "       [ 1,  1,  1, ...,  1,  1,  1],\n",
       "       [ 3,  1,  1, ...,  2,  1,  1],\n",
       "       [10,  9,  7, ...,  7,  7,  1]], dtype=int64)"
      ]
     },
     "execution_count": 43,
     "metadata": {},
     "output_type": "execute_result"
    }
   ],
   "source": [
    "X_train"
   ]
  },
  {
   "cell_type": "code",
   "execution_count": 44,
   "id": "6524195c",
   "metadata": {},
   "outputs": [
    {
     "data": {
      "text/plain": [
       "array([[ 1,  1,  1, ...,  1,  1,  1],\n",
       "       [ 3,  1,  1, ...,  2,  1,  1],\n",
       "       [ 5,  5,  5, ...,  4,  3,  1],\n",
       "       ...,\n",
       "       [ 4,  1,  1, ...,  1,  1,  1],\n",
       "       [ 4, 10,  4, ...,  9, 10,  1],\n",
       "       [ 2,  1,  1, ...,  2,  1,  1]], dtype=int64)"
      ]
     },
     "execution_count": 44,
     "metadata": {},
     "output_type": "execute_result"
    }
   ],
   "source": [
    "X_test"
   ]
  },
  {
   "cell_type": "markdown",
   "id": "0e0306ca",
   "metadata": {},
   "source": [
    "### applying model"
   ]
  },
  {
   "cell_type": "code",
   "execution_count": 45,
   "id": "46fb0281",
   "metadata": {},
   "outputs": [
    {
     "data": {
      "text/plain": [
       "LogisticRegression(random_state=0)"
      ]
     },
     "execution_count": 45,
     "metadata": {},
     "output_type": "execute_result"
    }
   ],
   "source": [
    "from sklearn.linear_model import LogisticRegression\n",
    "classifier = LogisticRegression(random_state = 0)\n",
    "classifier.fit(X_train, y_train)"
   ]
  },
  {
   "cell_type": "markdown",
   "id": "1e5b0301",
   "metadata": {},
   "source": [
    "### predicting test set results"
   ]
  },
  {
   "cell_type": "code",
   "execution_count": 46,
   "id": "9559aa97",
   "metadata": {},
   "outputs": [
    {
     "name": "stdout",
     "output_type": "stream",
     "text": [
      "[[2 2]\n",
      " [2 2]\n",
      " [4 4]\n",
      " [4 4]\n",
      " [2 2]\n",
      " [2 2]\n",
      " [2 2]\n",
      " [4 4]\n",
      " [2 2]\n",
      " [2 2]\n",
      " [4 4]\n",
      " [2 2]\n",
      " [4 4]\n",
      " [2 2]\n",
      " [2 2]\n",
      " [2 2]\n",
      " [4 4]\n",
      " [4 4]\n",
      " [4 4]\n",
      " [2 2]\n",
      " [2 2]\n",
      " [2 2]\n",
      " [4 4]\n",
      " [2 2]\n",
      " [4 4]\n",
      " [4 4]\n",
      " [2 2]\n",
      " [2 2]\n",
      " [2 2]\n",
      " [4 4]\n",
      " [2 2]\n",
      " [4 4]\n",
      " [4 4]\n",
      " [2 2]\n",
      " [2 2]\n",
      " [2 2]\n",
      " [4 4]\n",
      " [4 4]\n",
      " [2 2]\n",
      " [4 4]\n",
      " [2 2]\n",
      " [2 2]\n",
      " [2 2]\n",
      " [2 2]\n",
      " [2 2]\n",
      " [2 2]\n",
      " [2 2]\n",
      " [4 4]\n",
      " [2 2]\n",
      " [2 2]\n",
      " [4 4]\n",
      " [2 2]\n",
      " [4 4]\n",
      " [2 2]\n",
      " [2 2]\n",
      " [2 2]\n",
      " [4 4]\n",
      " [4 2]\n",
      " [2 2]\n",
      " [4 4]\n",
      " [2 2]\n",
      " [2 2]\n",
      " [2 2]\n",
      " [2 2]\n",
      " [2 2]\n",
      " [2 2]\n",
      " [2 2]\n",
      " [2 2]\n",
      " [4 4]\n",
      " [4 4]\n",
      " [2 2]\n",
      " [2 2]\n",
      " [2 2]\n",
      " [2 2]\n",
      " [2 2]\n",
      " [2 2]\n",
      " [4 4]\n",
      " [2 2]\n",
      " [2 2]\n",
      " [2 2]\n",
      " [4 4]\n",
      " [2 2]\n",
      " [4 4]\n",
      " [2 2]\n",
      " [2 2]\n",
      " [4 4]\n",
      " [2 2]\n",
      " [4 2]\n",
      " [4 4]\n",
      " [2 2]\n",
      " [4 4]\n",
      " [2 2]\n",
      " [4 4]\n",
      " [4 4]\n",
      " [2 4]\n",
      " [4 2]\n",
      " [4 4]\n",
      " [4 4]\n",
      " [4 4]\n",
      " [2 2]\n",
      " [2 2]\n",
      " [2 2]\n",
      " [4 4]\n",
      " [4 4]\n",
      " [2 2]\n",
      " [2 2]\n",
      " [4 4]\n",
      " [2 4]\n",
      " [2 2]\n",
      " [2 2]\n",
      " [4 4]\n",
      " [2 2]\n",
      " [2 2]\n",
      " [4 4]\n",
      " [2 2]\n",
      " [2 2]\n",
      " [2 2]\n",
      " [2 4]\n",
      " [2 2]\n",
      " [2 2]\n",
      " [2 2]\n",
      " [4 4]\n",
      " [2 2]\n",
      " [2 2]\n",
      " [4 4]\n",
      " [4 4]\n",
      " [2 2]\n",
      " [4 4]\n",
      " [2 2]\n",
      " [4 4]\n",
      " [2 2]\n",
      " [2 2]\n",
      " [4 4]\n",
      " [2 2]\n",
      " [2 2]\n",
      " [4 4]\n",
      " [2 2]]\n"
     ]
    }
   ],
   "source": [
    "y_pred = classifier.predict(X_test)\n",
    "print(np.concatenate((y_pred.reshape(len(y_pred),1), y_test.reshape(len(y_test),1)),1))"
   ]
  },
  {
   "cell_type": "markdown",
   "id": "7af3f233",
   "metadata": {},
   "source": [
    "### making confusion matrix"
   ]
  },
  {
   "cell_type": "code",
   "execution_count": 47,
   "id": "d19743f5",
   "metadata": {},
   "outputs": [
    {
     "name": "stdout",
     "output_type": "stream",
     "text": [
      "[[84  3]\n",
      " [ 3 47]]\n"
     ]
    },
    {
     "data": {
      "text/plain": [
       "0.9562043795620438"
      ]
     },
     "execution_count": 47,
     "metadata": {},
     "output_type": "execute_result"
    }
   ],
   "source": [
    "from sklearn.metrics import confusion_matrix, accuracy_score\n",
    "cm = confusion_matrix(y_test, y_pred)\n",
    "print(cm)\n",
    "accuracy_score(y_test, y_pred)"
   ]
  },
  {
   "cell_type": "markdown",
   "id": "b03df8ea",
   "metadata": {},
   "source": [
    "### using k fold cross validation"
   ]
  },
  {
   "cell_type": "code",
   "execution_count": 57,
   "id": "73f626bf",
   "metadata": {},
   "outputs": [
    {
     "name": "stdout",
     "output_type": "stream",
     "text": [
      "Accuracy: 96.7 %\n",
      "Standard deviation: 1.97 %\n"
     ]
    }
   ],
   "source": [
    "from sklearn.model_selection import cross_val_score\n",
    "# cv -> no of folds\n",
    "accuracies = cross_val_score(estimator = classifier, X = X_train, y = y_train, cv = 10)\n",
    "print(f\"Accuracy: {accuracies.mean().round(4)*100} %\")\n",
    "print(f\"Standard deviation: {accuracies.std().round(4)*100} %\")"
   ]
  }
 ],
 "metadata": {
  "kernelspec": {
   "display_name": "Python 3 (ipykernel)",
   "language": "python",
   "name": "python3"
  },
  "language_info": {
   "codemirror_mode": {
    "name": "ipython",
    "version": 3
   },
   "file_extension": ".py",
   "mimetype": "text/x-python",
   "name": "python",
   "nbconvert_exporter": "python",
   "pygments_lexer": "ipython3",
   "version": "3.9.13"
  }
 },
 "nbformat": 4,
 "nbformat_minor": 5
}
